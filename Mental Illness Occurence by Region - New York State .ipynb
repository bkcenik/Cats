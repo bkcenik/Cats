{
 "cells": [
  {
   "cell_type": "markdown",
   "metadata": {},
   "source": [
    "# Data Cleanup"
   ]
  },
  {
   "cell_type": "markdown",
   "metadata": {},
   "source": [
    "## CSV Reading & Data Wrangling "
   ]
  },
  {
   "cell_type": "code",
   "execution_count": 25,
   "metadata": {},
   "outputs": [],
   "source": [
    "import pandas as pd\n",
    "import csv\n",
    "import os\n",
    "import matplotlib.pyplot as plt\n",
    "import numpy as np\n",
    "\n",
    "#here, we will pull in the 3 CSV's of the PCS data, each file has anonymized data related to patient records at mental health treatment facilities \n",
    "filepath2013 = \"Resources/Patient_Characteristics_Survey__PCS___2013.csv\"\n",
    "filepath2015 = \"Resources/Patient_Characteristics_Survey__PCS___2015.csv\"\n",
    "filepath2017 = \"Resources/Patient_Characteristics_Survey__PCS___2017.csv\"\n",
    "#converting file to DF \n",
    "pcs_df_2013 = pd.read_csv(filepath2013)\n",
    "pcs_df_2015 = pd.read_csv(filepath2015)\n",
    "pcs_df_2017 = pd.read_csv(filepath2017)\n",
    "#isolating df's with factor attributes (qualitative)\n",
    "pcs_2015_factors = pcs_df_2015[['Intellectual Disability','Autism Spectrum','Other Developmental Disability','Alcohol Related Disorder','Drug Substance Disorder', 'Mobility Impairment Disorder', 'Hearing Visual Impairment', 'Hyperlipidemia', 'High Blood Pressure', 'Diabetes', 'Obesity', 'Heart Attack', 'Stroke', 'Other Cardiac', 'Pulmonary Asthma', 'Alzheimer or Dementia', 'Kidney Disease', 'Liver Disease', 'Endocrine Condition', 'Neurological Condition', 'Traumatic Brain Injury', 'Joint Disease', 'Cancer', 'Other Chronic Med Condition', 'No Chronic Med Condition', 'Unknown Chronic Med Condition', 'Smokes', 'Received Smoking Medication', 'Received Smoking Counseling']]\n",
    "pcs_2013_factors = pcs_df_2013[['Intellectual Disability', 'Autism Spectrum',\n",
    "       'Other Developmental Disabilities', 'Alcohol Related Disorder',\n",
    "       'Drug Substance Related Disorder', 'Mobility Impairment Disorder',\n",
    "       'Hearing Visual Impairment', 'Hyperlipidemia', 'High Blood Pressure',\n",
    "       'Diabetes', 'Obesity', 'Heart Attack', 'Stroke', 'Other Cardiac',\n",
    "       'Pulmonary/Asthma', 'Alzheimer or Dementia', 'Kidney Disease',\n",
    "       'Liver Disease', 'Endocrine Condition', 'Neurological Condition',\n",
    "       'Traumatic Brain Injury', 'Joint Disease', 'Cancer',\n",
    "       'No Chronic Med. Condition', 'Unknown Chronic Med. Condition', 'Smokes',\n",
    "       'Receives Smoking Medication', 'Receives Smoking Counseling']]\n",
    "pcs_2017_factors = pcs_df_2017[['Intellectual Disability', 'Autism Spectrum',\n",
    "       'Other Developmental Disability', 'Alcohol Related Disorder',\n",
    "       'Drug Substance Disorder', 'Mobility Impairment Disorder',\n",
    "       'Hearing Visual Impairment', 'Hyperlipidemia', 'High Blood Pressure',\n",
    "       'Diabetes', 'Obesity', 'Heart Attack', 'Stroke', 'Other Cardiac',\n",
    "       'Pulmonary Asthma', 'Alzheimer or Dementia', 'Kidney Disease',\n",
    "       'Liver Disease', 'Endocrine Condition', 'Neurological Condition',\n",
    "       'Traumatic Brain Injury', 'Joint Disease', 'Cancer',\n",
    "       'Other Chronic Med Condition', 'No Chronic Med Condition',\n",
    "       'Unknown Chronic Med Condition', 'Smokes',\n",
    "       'Received Smoking Medication', 'Received Smoking Counseling']]"
   ]
  },
  {
   "cell_type": "markdown",
   "metadata": {},
   "source": [
    "## Occurence of Mental Illness by Region"
   ]
  },
  {
   "cell_type": "code",
   "execution_count": 29,
   "metadata": {},
   "outputs": [],
   "source": [
    "pcs_groupby_2013 = pcs_df_2013.groupby(\"Region Served\").count()\n",
    "pcs_groupby_2015 = pcs_df_2015.groupby(\"Region Served\").count()\n",
    "pcs_groupby_2017 = pcs_df_2017.groupby(\"Region Served\").count()"
   ]
  },
  {
   "cell_type": "code",
   "execution_count": 32,
   "metadata": {},
   "outputs": [],
   "source": [
    "pcs_illness_2013 = pcs_df_2013.loc[pcs_df_2013[\"Mental Illness\"]== \"YES\"]\n",
    "pcs_illness_2013 = pcs_illness_2013[[\"Region Served\", \"Mental Illness\"]]\n",
    "illness_by_region_2013 = pcs_illness_2013.groupby(\"Region Served\").count()\n",
    "pcs_illness_2015 = pcs_df_2015.loc[pcs_df_2015[\"Mental Illness\"]== \"YES\"]\n",
    "pcs_illness_2015 = pcs_illness_2015[[\"Region Served\", \"Mental Illness\"]]\n",
    "illness_by_region_2015 = pcs_illness_2015.groupby(\"Region Served\").count()\n",
    "pcs_illness_2017 = pcs_df_2017.loc[pcs_df_2017[\"Mental Illness\"]== \"YES\"]\n",
    "pcs_illness_2017 = pcs_illness_2017[[\"Region Served\", \"Mental Illness\"]]\n",
    "illness_by_region_2017 = pcs_illness_2017.groupby(\"Region Served\").count()"
   ]
  },
  {
   "cell_type": "code",
   "execution_count": 46,
   "metadata": {},
   "outputs": [
    {
     "data": {
      "image/png": "[encoded data removed]",
      "text/plain": [
       "<Figure size 432x288 with 1 Axes>"
      ]
     },
     "metadata": {
      "needs_background": "light"
     },
     "output_type": "display_data"
    }
   ],
   "source": [
    "#define data\n",
    "regions = (\"Central NY\", \"Hudson River\", \"Long Island\", \"New York City\", \"Western\")\n",
    "regions_2013 = illness_by_region_2013[\"Mental Illness\"].tolist()\n",
    "regions_2015 = illness_by_region_2015[\"Mental Illness\"].tolist()\n",
    "regions_2017 = illness_by_region_2017[\"Mental Illness\"].tolist()\n",
    "n_groups = 5\n",
    "\n",
    "#create plot\n",
    "fig, ax = plt.subplots()\n",
    "index = np.arange(n_groups)\n",
    "bar_width = 0.3\n",
    "opacity = 0.8\n",
    "\n",
    "\n",
    "plot_2013 = plt.bar(index - bar_width, regions_2013, bar_width, alpha=0.5, align='center', label = \"2013\")\n",
    "plot_2015 = plt.bar(index, regions_2015, bar_width, alpha=0.5, align ='center', label = \"2015\")\n",
    "plot_2017 = plt.bar(index + bar_width, regions_2017, bar_width, align='center', alpha=0.5, label = \"2017\")\n",
    "\n",
    "plt.xticks(index, regions)\n",
    "plt.legend()\n",
    "plt.tight_layout()\n",
    "plt.show()"
   ]
  },
  {
   "cell_type": "markdown",
   "metadata": {},
   "source": [
    "As expected, we observe the greatest number of occurences in NYC opposed to other less populated regions"
   ]
  }
 ],
 "metadata": {
  "kernelspec": {
   "display_name": "Python 3",
   "language": "python",
   "name": "python3"
  },
  "language_info": {
   "codemirror_mode": {
    "name": "ipython",
    "version": 3
   },
   "file_extension": ".py",
   "mimetype": "text/x-python",
   "name": "python",
   "nbconvert_exporter": "python",
   "pygments_lexer": "ipython3",
   "version": "3.7.1"
  }
 },
 "nbformat": 4,
 "nbformat_minor": 2
}
