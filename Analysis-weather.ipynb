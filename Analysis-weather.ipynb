{
 "cells": [
  {
   "cell_type": "code",
   "execution_count": 53,
   "metadata": {},
   "outputs": [],
   "source": [
    "import csv\n",
    "import pandas as pd\n",
    "import matplotlib.pyplot as plt\n"
   ]
  },
  {
   "cell_type": "code",
   "execution_count": 54,
   "metadata": {},
   "outputs": [
    {
     "data": {
      "text/plain": [
       "19695.099502636705"
      ]
     },
     "execution_count": 54,
     "metadata": {},
     "output_type": "execute_result"
    }
   ],
   "source": [
    "weather_data = pd.read_csv(\"weather.csv\")\n",
    "weather_data\n",
    "Incidence_data=pd.read_csv(\"_cleaned_incidence_rate.csv\")\n",
    "Incidence_data\n",
    "\n",
    "Incidence_data1=Incidence_data.groupby(['cause_name']).mean()\n",
    "#Incidence_data.reset_index(inplace=True)\n",
    "Incidence_data1\n",
    "total=Incidence_data1['val'].sum()\n",
    "total\n",
    "\n",
    "#Incidence_data['Percentage']=Incidence_data['val']/total\n",
    "#Incidence_data\n",
    "\n",
    "#Incidence_data = Incidence_data.sort_values([\"Percentage\"], ascending=False).head(5)\n",
    "#Incidence_data.head()\n",
    "#Incidence_data=Incidence_data.style.format({'Percentage': '{:,.2%}'.format})\n",
    "#Incidence_data\n"
   ]
  },
  {
   "cell_type": "code",
   "execution_count": 55,
   "metadata": {},
   "outputs": [
    {
     "data": {
      "text/plain": [
       "([<matplotlib.patches.Wedge at 0x11d59be80>,\n",
       "  <matplotlib.patches.Wedge at 0x11c3f78d0>,\n",
       "  <matplotlib.patches.Wedge at 0x11c4002b0>,\n",
       "  <matplotlib.patches.Wedge at 0x11c400c50>,\n",
       "  <matplotlib.patches.Wedge at 0x11c409630>,\n",
       "  <matplotlib.patches.Wedge at 0x11c409fd0>],\n",
       " [Text(-0.6940682111213534, -0.9789123139029382, 'Mental'),\n",
       "  Text(1.000207190464424, -0.4578051726916848, 'Depressive'),\n",
       "  Text(0.4712447601063409, 0.9939458617411299, 'Major depressive'),\n",
       "  Text(-0.525048070749816, 0.9666046365510029, 'Substance use'),\n",
       "  Text(-0.8206801259785934, 0.7324507702390382, 'Alcohol use'),\n",
       "  Text(-1.0554152944555624, 0.3099976713287998, 'Other')],\n",
       " [Text(-0.4048731231541228, -0.5710321831100472, '30.4%'),\n",
       "  Text(0.5455675584351404, -0.2497119123772826, '25.6%'),\n",
       "  Text(0.25704259642164046, 0.5421522882224344, '24.0%'),\n",
       "  Text(-0.28638985677262685, 0.5272388926641833, '6.0%'),\n",
       "  Text(-0.44764370507923273, 0.3995186019485662, '5.0%'),\n",
       "  Text(-0.575681069703034, 0.16908963890661807, '9.1%')])"
      ]
     },
     "execution_count": 55,
     "metadata": {},
     "output_type": "execute_result"
    },
    {
     "data": {
      "image/png": "[encoded data removed]",
      "text/plain": [
       "<Figure size 432x288 with 1 Axes>"
      ]
     },
     "metadata": {},
     "output_type": "display_data"
    }
   ],
   "source": [
    "# Labels for the sections of our pie chart\n",
    "labels = [\"Mental\", \"Depressive\", \"Major depressive\", \"Substance use\",\"Alcohol use\",\"Other\"]\n",
    "\n",
    "# The values of each section of the pie chart\n",
    "sizes = [5981, 5042, 4721, 1174,986,1791]\n",
    "\n",
    "# The colors of each section of the pie chart\n",
    "colors = [\"red\", \"orange\", \"lightcoral\", \"lightskyblue\",\"green\",\"yellow\"]\n",
    "\n",
    "# Tells matplotlib to seperate the \"Python\" section from the others\n",
    "explode = (0.1, 0, 0, 0,0,0)\n",
    "plt.pie(sizes, explode=explode, labels=labels, colors=colors,\n",
    "        autopct=\"%1.1f%%\", shadow=True, startangle=180)"
   ]
  },
  {
   "cell_type": "code",
   "execution_count": 84,
   "metadata": {},
   "outputs": [
    {
     "data": {
      "text/html": [
       "<div>\n",
       "<style scoped>\n",
       "    .dataframe tbody tr th:only-of-type {\n",
       "        vertical-align: middle;\n",
       "    }\n",
       "\n",
       "    .dataframe tbody tr th {\n",
       "        vertical-align: top;\n",
       "    }\n",
       "\n",
       "    .dataframe thead th {\n",
       "        text-align: right;\n",
       "    }\n",
       "</style>\n",
       "<table border=\"1\" class=\"dataframe\">\n",
       "  <thead>\n",
       "    <tr style=\"text-align: right;\">\n",
       "      <th></th>\n",
       "      <th>State</th>\n",
       "      <th>Incidence rate</th>\n",
       "    </tr>\n",
       "  </thead>\n",
       "  <tbody>\n",
       "    <tr>\n",
       "      <th>0</th>\n",
       "      <td>Alabama</td>\n",
       "      <td>9508.697294</td>\n",
       "    </tr>\n",
       "    <tr>\n",
       "      <th>1</th>\n",
       "      <td>Alaska</td>\n",
       "      <td>10224.413974</td>\n",
       "    </tr>\n",
       "    <tr>\n",
       "      <th>2</th>\n",
       "      <td>Arizona</td>\n",
       "      <td>10676.909849</td>\n",
       "    </tr>\n",
       "    <tr>\n",
       "      <th>3</th>\n",
       "      <td>Arkansas</td>\n",
       "      <td>11135.754906</td>\n",
       "    </tr>\n",
       "    <tr>\n",
       "      <th>4</th>\n",
       "      <td>California</td>\n",
       "      <td>8597.080415</td>\n",
       "    </tr>\n",
       "  </tbody>\n",
       "</table>\n",
       "</div>"
      ],
      "text/plain": [
       "        State  Incidence rate\n",
       "0     Alabama     9508.697294\n",
       "1      Alaska    10224.413974\n",
       "2     Arizona    10676.909849\n",
       "3    Arkansas    11135.754906\n",
       "4  California     8597.080415"
      ]
     },
     "execution_count": 84,
     "metadata": {},
     "output_type": "execute_result"
    }
   ],
   "source": [
    "Incidence_data2=Incidence_data.groupby(['location_name','cause_name']).mean()\n",
    "Incidence_data2.reset_index(inplace=True)\n",
    "Incidence_data2\n",
    "Incidence_data2.columns\n",
    "Incidence_data2.cause_name.unique()\n",
    "Incidence_data_list=['Depressive disorders','Major depressive disorder']\n",
    "Incidence_sv=Incidence_data2[Incidence_data2.cause_name.isin(Incidence_data_list)]\n",
    "Incidence_sv\n",
    "Incidence_data3=Incidence_sv.groupby(['location_name']).sum()\n",
    "Incidence_data3\n",
    "Incidence_data3.reset_index(inplace=True)\n",
    "Incidence_data4=Incidence_data3.rename(columns={'location_name': 'State','val':'Incidence rate'})\n",
    "Incidence_data4.head()\n"
   ]
  },
  {
   "cell_type": "code",
   "execution_count": 85,
   "metadata": {},
   "outputs": [
    {
     "data": {
      "text/html": [
       "<div>\n",
       "<style scoped>\n",
       "    .dataframe tbody tr th:only-of-type {\n",
       "        vertical-align: middle;\n",
       "    }\n",
       "\n",
       "    .dataframe tbody tr th {\n",
       "        vertical-align: top;\n",
       "    }\n",
       "\n",
       "    .dataframe thead th {\n",
       "        text-align: right;\n",
       "    }\n",
       "</style>\n",
       "<table border=\"1\" class=\"dataframe\">\n",
       "  <thead>\n",
       "    <tr style=\"text-align: right;\">\n",
       "      <th></th>\n",
       "      <th>State</th>\n",
       "      <th>Inches</th>\n",
       "      <th>metres</th>\n",
       "      <th>Rank</th>\n",
       "      <th>Incidence rate</th>\n",
       "    </tr>\n",
       "  </thead>\n",
       "  <tbody>\n",
       "    <tr>\n",
       "      <th>0</th>\n",
       "      <td>Alabama</td>\n",
       "      <td>58.3</td>\n",
       "      <td>1480</td>\n",
       "      <td>4</td>\n",
       "      <td>9508.697294</td>\n",
       "    </tr>\n",
       "    <tr>\n",
       "      <th>1</th>\n",
       "      <td>Alaska</td>\n",
       "      <td>22.5</td>\n",
       "      <td>572</td>\n",
       "      <td>39</td>\n",
       "      <td>10224.413974</td>\n",
       "    </tr>\n",
       "    <tr>\n",
       "      <th>2</th>\n",
       "      <td>Arizona</td>\n",
       "      <td>13.6</td>\n",
       "      <td>345</td>\n",
       "      <td>47</td>\n",
       "      <td>10676.909849</td>\n",
       "    </tr>\n",
       "    <tr>\n",
       "      <th>3</th>\n",
       "      <td>Arkansas</td>\n",
       "      <td>50.6</td>\n",
       "      <td>1284</td>\n",
       "      <td>8</td>\n",
       "      <td>11135.754906</td>\n",
       "    </tr>\n",
       "    <tr>\n",
       "      <th>4</th>\n",
       "      <td>California</td>\n",
       "      <td>22.2</td>\n",
       "      <td>563</td>\n",
       "      <td>40</td>\n",
       "      <td>8597.080415</td>\n",
       "    </tr>\n",
       "  </tbody>\n",
       "</table>\n",
       "</div>"
      ],
      "text/plain": [
       "        State  Inches  metres   Rank  Incidence rate\n",
       "0     Alabama    58.3    1480      4     9508.697294\n",
       "1      Alaska    22.5     572     39    10224.413974\n",
       "2     Arizona    13.6     345     47    10676.909849\n",
       "3    Arkansas    50.6    1284      8    11135.754906\n",
       "4  California    22.2     563     40     8597.080415"
      ]
     },
     "execution_count": 85,
     "metadata": {},
     "output_type": "execute_result"
    }
   ],
   "source": [
    "rainfall_depression_data=pd.merge(weather_data,Incidence_data4,on='State')\n",
    "rainfall_depression_data.head()"
   ]
  },
  {
   "cell_type": "code",
   "execution_count": 88,
   "metadata": {},
   "outputs": [
    {
     "data": {
      "image/png": "[encoded data removed]",
      "text/plain": [
       "<Figure size 432x288 with 1 Axes>"
      ]
     },
     "metadata": {
      "needs_background": "light"
     },
     "output_type": "display_data"
    }
   ],
   "source": [
    "plt.scatter(rainfall_depression_data[\"Inches\"], rainfall_depression_data[\"Incidence rate\"], marker=\"o\",facecolors=\"red\", edgecolors=\"black\",\n",
    "         alpha=0.75)\n",
    "\n",
    "plt.title(\"State Precipitation Inches vs. Incidence(Rate)\")\n",
    "plt.ylabel(\"Incidence(Rate)\")\n",
    "plt.xlabel(\"Precipitation Inches\")\n",
    "plt.grid(True)\n",
    "\n",
    "#len(Incidence_data[\"Incidence (Rate)\"]) == len(weather_data[\"Inches\"])\n"
   ]
  },
  {
   "cell_type": "code",
   "execution_count": null,
   "metadata": {},
   "outputs": [],
   "source": []
  },
  {
   "cell_type": "code",
   "execution_count": null,
   "metadata": {},
   "outputs": [],
   "source": []
  },
  {
   "cell_type": "code",
   "execution_count": null,
   "metadata": {},
   "outputs": [],
   "source": []
  }
 ],
 "metadata": {
  "kernelspec": {
   "display_name": "Python 3",
   "language": "python",
   "name": "python3"
  },
  "language_info": {
   "codemirror_mode": {
    "name": "ipython",
    "version": 3
   },
   "file_extension": ".py",
   "mimetype": "text/x-python",
   "name": "python",
   "nbconvert_exporter": "python",
   "pygments_lexer": "ipython3",
   "version": "3.7.1"
  }
 },
 "nbformat": 4,
 "nbformat_minor": 2
}
