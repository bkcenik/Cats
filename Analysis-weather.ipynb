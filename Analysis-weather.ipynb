{
 "cells": [
  {
   "cell_type": "code",
   "execution_count": 1,
   "metadata": {},
   "outputs": [],
   "source": [
    "import csv\n",
    "import pandas as pd\n",
    "import matplotlib.pyplot as plt\n"
   ]
  },
  {
   "cell_type": "code",
   "execution_count": 2,
   "metadata": {},
   "outputs": [
    {
     "data": {
      "text/html": [
       "<div>\n",
       "<style scoped>\n",
       "    .dataframe tbody tr th:only-of-type {\n",
       "        vertical-align: middle;\n",
       "    }\n",
       "\n",
       "    .dataframe tbody tr th {\n",
       "        vertical-align: top;\n",
       "    }\n",
       "\n",
       "    .dataframe thead th {\n",
       "        text-align: right;\n",
       "    }\n",
       "</style>\n",
       "<table border=\"1\" class=\"dataframe\">\n",
       "  <thead>\n",
       "    <tr style=\"text-align: right;\">\n",
       "      <th></th>\n",
       "      <th>cause_name</th>\n",
       "      <th>val</th>\n",
       "      <th>Percentage</th>\n",
       "    </tr>\n",
       "  </thead>\n",
       "  <tbody>\n",
       "    <tr>\n",
       "      <th>16</th>\n",
       "      <td>Mental disorders</td>\n",
       "      <td>9150.959123</td>\n",
       "      <td>303.680570</td>\n",
       "    </tr>\n",
       "    <tr>\n",
       "      <th>11</th>\n",
       "      <td>Depressive disorders</td>\n",
       "      <td>7714.854291</td>\n",
       "      <td>256.022491</td>\n",
       "    </tr>\n",
       "    <tr>\n",
       "      <th>15</th>\n",
       "      <td>Major depressive disorder</td>\n",
       "      <td>7223.581517</td>\n",
       "      <td>239.719282</td>\n",
       "    </tr>\n",
       "    <tr>\n",
       "      <th>20</th>\n",
       "      <td>Substance use disorders</td>\n",
       "      <td>1797.578912</td>\n",
       "      <td>59.653833</td>\n",
       "    </tr>\n",
       "    <tr>\n",
       "      <th>0</th>\n",
       "      <td>Alcohol use disorders</td>\n",
       "      <td>1509.443435</td>\n",
       "      <td>50.091869</td>\n",
       "    </tr>\n",
       "  </tbody>\n",
       "</table>\n",
       "</div>"
      ],
      "text/plain": [
       "                   cause_name          val  Percentage\n",
       "16           Mental disorders  9150.959123  303.680570\n",
       "11       Depressive disorders  7714.854291  256.022491\n",
       "15  Major depressive disorder  7223.581517  239.719282\n",
       "20    Substance use disorders  1797.578912   59.653833\n",
       "0       Alcohol use disorders  1509.443435   50.091869"
      ]
     },
     "execution_count": 2,
     "metadata": {},
     "output_type": "execute_result"
    }
   ],
   "source": [
    "weather_data = pd.read_csv(\"weather.csv\")\n",
    "weather_data\n",
    "Incidence_data=pd.read_csv(\"_cleaned_incidence_rate.csv\")\n",
    "Incidence_data\n",
    "Temp_data=pd.read_csv(\"temperature.csv\")\n",
    "Temp_data\n",
    "Incidence_data1=Incidence_data.groupby(['cause_name']).sum()/1000\n",
    "Incidence_data1.reset_index(inplace=True)\n",
    "Incidence_data1\n",
    "total=Incidence_data1['val'].sum()/1000\n",
    "total\n",
    "\n",
    "Incidence_data1['Percentage']=Incidence_data1['val']/total\n",
    "Incidence_data1\n",
    "\n",
    "Incidence_data1 = Incidence_data1.sort_values([\"Percentage\"], ascending=False).head(5)\n",
    "Incidence_data1.head()\n",
    "#Incidence_data1=Incidence_data1.style.format({'Percentage': '{:,.2%}'.format})\n",
    "#Incidence_data1\n"
   ]
  },
  {
   "cell_type": "code",
   "execution_count": 3,
   "metadata": {},
   "outputs": [
    {
     "data": {
      "text/plain": [
       "([<matplotlib.patches.Wedge at 0x1209469b0>,\n",
       "  <matplotlib.patches.Wedge at 0x120be6358>,\n",
       "  <matplotlib.patches.Wedge at 0x120be6cf8>,\n",
       "  <matplotlib.patches.Wedge at 0x120bf06d8>,\n",
       "  <matplotlib.patches.Wedge at 0x120bfa0b8>,\n",
       "  <matplotlib.patches.Wedge at 0x120bfaa58>],\n",
       " [Text(-0.6941522538006104, -0.9788527205578648, 'Mental'),\n",
       "  Text(1.0001204181710834, -0.45799470428957756, 'Depressive'),\n",
       "  Text(0.4714555302448273, 0.99384590505851, 'Major depressive'),\n",
       "  Text(-0.5249191826885281, 0.9666746358757986, 'Substance use'),\n",
       "  Text(-0.8206770314345793, 0.73245423753005, 'Alcohol use'),\n",
       "  Text(-1.0554217158060806, 0.30997580841889705, 'Other')],\n",
       " [Text(-0.40492214805035603, -0.570997420325421, '30.4%'),\n",
       "  Text(0.5455202280933181, -0.24981529324886045, '25.6%'),\n",
       "  Text(0.25715756195172396, 0.5420977663955509, '24.0%'),\n",
       "  Text(-0.2863195541937426, 0.5272770741140719, '6.0%'),\n",
       "  Text(-0.4476420171461341, 0.39952049319820904, '5.0%'),\n",
       "  Text(-0.5756845722578621, 0.16907771368303473, '9.1%')])"
      ]
     },
     "execution_count": 3,
     "metadata": {},
     "output_type": "execute_result"
    },
    {
     "data": {
      "image/png": "[encoded data removed]",
      "text/plain": [
       "<Figure size 432x288 with 1 Axes>"
      ]
     },
     "metadata": {},
     "output_type": "display_data"
    }
   ],
   "source": [
    "# Labels for the sections of our pie chart\n",
    "labels = [\"Mental\", \"Depressive\", \"Major depressive\", \"Substance use\",\"Alcohol use\",\"Other\"]\n",
    "\n",
    "# The values of each section of the pie chart\n",
    "sizes = [9150, 7714, 7223, 1797,1509,2740]\n",
    "\n",
    "# The colors of each section of the pie chart\n",
    "colors = [\"red\", \"orange\", \"lightcoral\", \"lightskyblue\",\"green\",\"yellow\"]\n",
    "\n",
    "# Tells matplotlib to seperate the \"Python\" section from the others\n",
    "explode = (0.1, 0, 0, 0,0,0)\n",
    "plt.pie(sizes, explode=explode, labels=labels, colors=colors,\n",
    "        autopct=\"%1.1f%%\", shadow=True, startangle=180)"
   ]
  },
  {
   "cell_type": "code",
   "execution_count": 4,
   "metadata": {},
   "outputs": [
    {
     "data": {
      "text/html": [
       "<div>\n",
       "<style scoped>\n",
       "    .dataframe tbody tr th:only-of-type {\n",
       "        vertical-align: middle;\n",
       "    }\n",
       "\n",
       "    .dataframe tbody tr th {\n",
       "        vertical-align: top;\n",
       "    }\n",
       "\n",
       "    .dataframe thead th {\n",
       "        text-align: right;\n",
       "    }\n",
       "</style>\n",
       "<table border=\"1\" class=\"dataframe\">\n",
       "  <thead>\n",
       "    <tr style=\"text-align: right;\">\n",
       "      <th></th>\n",
       "      <th>State</th>\n",
       "      <th>Incidence rate</th>\n",
       "    </tr>\n",
       "  </thead>\n",
       "  <tbody>\n",
       "    <tr>\n",
       "      <th>0</th>\n",
       "      <td>Alabama</td>\n",
       "      <td>285260.918814</td>\n",
       "    </tr>\n",
       "    <tr>\n",
       "      <th>1</th>\n",
       "      <td>Alaska</td>\n",
       "      <td>306732.419234</td>\n",
       "    </tr>\n",
       "    <tr>\n",
       "      <th>2</th>\n",
       "      <td>Arizona</td>\n",
       "      <td>320307.295471</td>\n",
       "    </tr>\n",
       "    <tr>\n",
       "      <th>3</th>\n",
       "      <td>Arkansas</td>\n",
       "      <td>334072.647169</td>\n",
       "    </tr>\n",
       "    <tr>\n",
       "      <th>4</th>\n",
       "      <td>California</td>\n",
       "      <td>257912.412447</td>\n",
       "    </tr>\n",
       "  </tbody>\n",
       "</table>\n",
       "</div>"
      ],
      "text/plain": [
       "        State  Incidence rate\n",
       "0     Alabama   285260.918814\n",
       "1      Alaska   306732.419234\n",
       "2     Arizona   320307.295471\n",
       "3    Arkansas   334072.647169\n",
       "4  California   257912.412447"
      ]
     },
     "execution_count": 4,
     "metadata": {},
     "output_type": "execute_result"
    }
   ],
   "source": [
    "Incidence_data2=Incidence_data.groupby(['location_name','cause_name']).sum()\n",
    "Incidence_data2.reset_index(inplace=True)\n",
    "Incidence_data2\n",
    "Incidence_data2.columns\n",
    "Incidence_data2.cause_name.unique()\n",
    "Incidence_data_list=['Depressive disorders','Major depressive disorder']\n",
    "Incidence_sv=Incidence_data2[Incidence_data2.cause_name.isin(Incidence_data_list)]\n",
    "Incidence_sv\n",
    "Incidence_data3=Incidence_sv.groupby(['location_name']).sum()\n",
    "Incidence_data3\n",
    "Incidence_data3.reset_index(inplace=True)\n",
    "Incidence_data4=Incidence_data3.rename(columns={'location_name': 'State','val':'Incidence rate'})\n",
    "Incidence_data4.head()\n"
   ]
  },
  {
   "cell_type": "code",
   "execution_count": 8,
   "metadata": {},
   "outputs": [
    {
     "data": {
      "text/html": [
       "<div>\n",
       "<style scoped>\n",
       "    .dataframe tbody tr th:only-of-type {\n",
       "        vertical-align: middle;\n",
       "    }\n",
       "\n",
       "    .dataframe tbody tr th {\n",
       "        vertical-align: top;\n",
       "    }\n",
       "\n",
       "    .dataframe thead th {\n",
       "        text-align: right;\n",
       "    }\n",
       "</style>\n",
       "<table border=\"1\" class=\"dataframe\">\n",
       "  <thead>\n",
       "    <tr style=\"text-align: right;\">\n",
       "      <th></th>\n",
       "      <th>State</th>\n",
       "      <th>Inches</th>\n",
       "      <th>metres</th>\n",
       "      <th>Rank</th>\n",
       "      <th>Incidence rate</th>\n",
       "      <th>temperature</th>\n",
       "      <th>Avg °C</th>\n",
       "      <th>Rank</th>\n",
       "    </tr>\n",
       "  </thead>\n",
       "  <tbody>\n",
       "    <tr>\n",
       "      <th>0</th>\n",
       "      <td>Alabama</td>\n",
       "      <td>58.3</td>\n",
       "      <td>1480</td>\n",
       "      <td>4</td>\n",
       "      <td>285260.918814</td>\n",
       "      <td>62.8</td>\n",
       "      <td>17.1</td>\n",
       "      <td>7</td>\n",
       "    </tr>\n",
       "    <tr>\n",
       "      <th>1</th>\n",
       "      <td>Alaska</td>\n",
       "      <td>22.5</td>\n",
       "      <td>572</td>\n",
       "      <td>39</td>\n",
       "      <td>306732.419234</td>\n",
       "      <td>26.6</td>\n",
       "      <td>-3.0</td>\n",
       "      <td>50</td>\n",
       "    </tr>\n",
       "    <tr>\n",
       "      <th>2</th>\n",
       "      <td>Arizona</td>\n",
       "      <td>13.6</td>\n",
       "      <td>345</td>\n",
       "      <td>47</td>\n",
       "      <td>320307.295471</td>\n",
       "      <td>60.3</td>\n",
       "      <td>15.7</td>\n",
       "      <td>10</td>\n",
       "    </tr>\n",
       "    <tr>\n",
       "      <th>3</th>\n",
       "      <td>Arkansas</td>\n",
       "      <td>50.6</td>\n",
       "      <td>1284</td>\n",
       "      <td>8</td>\n",
       "      <td>334072.647169</td>\n",
       "      <td>60.4</td>\n",
       "      <td>15.8</td>\n",
       "      <td>9</td>\n",
       "    </tr>\n",
       "    <tr>\n",
       "      <th>4</th>\n",
       "      <td>California</td>\n",
       "      <td>22.2</td>\n",
       "      <td>563</td>\n",
       "      <td>40</td>\n",
       "      <td>257912.412447</td>\n",
       "      <td>59.4</td>\n",
       "      <td>15.2</td>\n",
       "      <td>12</td>\n",
       "    </tr>\n",
       "  </tbody>\n",
       "</table>\n",
       "</div>"
      ],
      "text/plain": [
       "        State  Inches  metres   Rank  Incidence rate  temperature  Avg °C  \\\n",
       "0     Alabama    58.3    1480      4   285260.918814         62.8    17.1   \n",
       "1      Alaska    22.5     572     39   306732.419234         26.6    -3.0   \n",
       "2     Arizona    13.6     345     47   320307.295471         60.3    15.7   \n",
       "3    Arkansas    50.6    1284      8   334072.647169         60.4    15.8   \n",
       "4  California    22.2     563     40   257912.412447         59.4    15.2   \n",
       "\n",
       "   Rank  \n",
       "0     7  \n",
       "1    50  \n",
       "2    10  \n",
       "3     9  \n",
       "4    12  "
      ]
     },
     "execution_count": 8,
     "metadata": {},
     "output_type": "execute_result"
    }
   ],
   "source": [
    "rainfall_depression_data=pd.merge(weather_data,Incidence_data4,on='State')\n",
    "rainfall_depression_data.head()\n",
    "rainfall_temp_depression_data=pd.merge(rainfall_depression_data,Temp_data,on='State')\n",
    "rainfall_temp_depression_data.head()\n",
    "rainfall_temp_depression=rainfall_temp_depression_data.rename(columns={'Avg °F': 'temperature'})\n",
    "rainfall_temp_depression.head()\n"
   ]
  },
  {
   "cell_type": "code",
   "execution_count": 6,
   "metadata": {},
   "outputs": [
    {
     "data": {
      "image/png": "[encoded data removed]",
      "text/plain": [
       "<Figure size 432x288 with 1 Axes>"
      ]
     },
     "metadata": {
      "needs_background": "light"
     },
     "output_type": "display_data"
    }
   ],
   "source": [
    "plt.scatter(rainfall_depression_data[\"Inches\"], rainfall_depression_data[\"Incidence rate\"], marker=\"o\",facecolors=\"red\", edgecolors=\"black\",\n",
    "         alpha=0.75)\n",
    "\n",
    "plt.title(\"State Precipitation Inches vs. Incidence(Rate)\")\n",
    "plt.ylabel(\"Incidence(Rate)\")\n",
    "plt.xlabel(\"Precipitation Inches\")\n",
    "plt.grid(True)\n"
   ]
  },
  {
   "cell_type": "code",
   "execution_count": 10,
   "metadata": {},
   "outputs": [
    {
     "data": {
      "image/png": "[encoded data removed]",
      "text/plain": [
       "<Figure size 432x288 with 1 Axes>"
      ]
     },
     "metadata": {
      "needs_background": "light"
     },
     "output_type": "display_data"
    }
   ],
   "source": [
    "plt.scatter(rainfall_temp_depression[\"temperature\"], rainfall_temp_depression[\"Incidence rate\"], marker=\"o\",facecolors=\"red\", edgecolors=\"black\",\n",
    "         alpha=0.75)\n",
    "\n",
    "plt.title(\"State Avg Temperature vs. Incidence(Rate)\")\n",
    "plt.ylabel(\"Incidence(Rate)\")\n",
    "plt.xlabel(\"Avg Temperature\")\n",
    "plt.grid(True)"
   ]
  },
  {
   "cell_type": "code",
   "execution_count": 19,
   "metadata": {},
   "outputs": [
    {
     "data": {
      "text/html": [
       "<div>\n",
       "<style scoped>\n",
       "    .dataframe tbody tr th:only-of-type {\n",
       "        vertical-align: middle;\n",
       "    }\n",
       "\n",
       "    .dataframe tbody tr th {\n",
       "        vertical-align: top;\n",
       "    }\n",
       "\n",
       "    .dataframe thead th {\n",
       "        text-align: right;\n",
       "    }\n",
       "</style>\n",
       "<table border=\"1\" class=\"dataframe\">\n",
       "  <thead>\n",
       "    <tr style=\"text-align: right;\">\n",
       "      <th></th>\n",
       "      <th>State</th>\n",
       "      <th>temperature</th>\n",
       "      <th>Inches</th>\n",
       "    </tr>\n",
       "  </thead>\n",
       "  <tbody>\n",
       "    <tr>\n",
       "      <th>0</th>\n",
       "      <td>Alabama</td>\n",
       "      <td>62.8</td>\n",
       "      <td>58.3</td>\n",
       "    </tr>\n",
       "    <tr>\n",
       "      <th>1</th>\n",
       "      <td>Alaska</td>\n",
       "      <td>26.6</td>\n",
       "      <td>22.5</td>\n",
       "    </tr>\n",
       "    <tr>\n",
       "      <th>2</th>\n",
       "      <td>Arizona</td>\n",
       "      <td>60.3</td>\n",
       "      <td>13.6</td>\n",
       "    </tr>\n",
       "    <tr>\n",
       "      <th>3</th>\n",
       "      <td>Arkansas</td>\n",
       "      <td>60.4</td>\n",
       "      <td>50.6</td>\n",
       "    </tr>\n",
       "    <tr>\n",
       "      <th>4</th>\n",
       "      <td>California</td>\n",
       "      <td>59.4</td>\n",
       "      <td>22.2</td>\n",
       "    </tr>\n",
       "  </tbody>\n",
       "</table>\n",
       "</div>"
      ],
      "text/plain": [
       "        State  temperature  Inches\n",
       "0     Alabama         62.8    58.3\n",
       "1      Alaska         26.6    22.5\n",
       "2     Arizona         60.3    13.6\n",
       "3    Arkansas         60.4    50.6\n",
       "4  California         59.4    22.2"
      ]
     },
     "execution_count": 19,
     "metadata": {},
     "output_type": "execute_result"
    }
   ],
   "source": [
    "rainfall_temp_depression_final=rainfall_temp_depression[['State','temperature','Inches']]\n",
    "rainfall_temp_depression_final.head()\n",
    "#item_table6=item_table5[['Item ID','Item Name','Purchase Count','Average Purchase Price','Total Purhse Value']]\n",
    "#item_table6\n"
   ]
  },
  {
   "cell_type": "code",
   "execution_count": 20,
   "metadata": {},
   "outputs": [
    {
     "data": {
      "text/html": [
       "<div>\n",
       "<style scoped>\n",
       "    .dataframe tbody tr th:only-of-type {\n",
       "        vertical-align: middle;\n",
       "    }\n",
       "\n",
       "    .dataframe tbody tr th {\n",
       "        vertical-align: top;\n",
       "    }\n",
       "\n",
       "    .dataframe thead th {\n",
       "        text-align: right;\n",
       "    }\n",
       "</style>\n",
       "<table border=\"1\" class=\"dataframe\">\n",
       "  <thead>\n",
       "    <tr style=\"text-align: right;\">\n",
       "      <th></th>\n",
       "      <th>temperature</th>\n",
       "      <th>Inches</th>\n",
       "    </tr>\n",
       "  </thead>\n",
       "  <tbody>\n",
       "    <tr>\n",
       "      <th>temperature</th>\n",
       "      <td>1.000000</td>\n",
       "      <td>0.544087</td>\n",
       "    </tr>\n",
       "    <tr>\n",
       "      <th>Inches</th>\n",
       "      <td>0.544087</td>\n",
       "      <td>1.000000</td>\n",
       "    </tr>\n",
       "  </tbody>\n",
       "</table>\n",
       "</div>"
      ],
      "text/plain": [
       "             temperature    Inches\n",
       "temperature     1.000000  0.544087\n",
       "Inches          0.544087  1.000000"
      ]
     },
     "execution_count": 20,
     "metadata": {},
     "output_type": "execute_result"
    }
   ],
   "source": [
    "rainfall_temp_depression_final.corr()"
   ]
  },
  {
   "cell_type": "code",
   "execution_count": null,
   "metadata": {},
   "outputs": [],
   "source": []
  }
 ],
 "metadata": {
  "kernelspec": {
   "display_name": "Python 3",
   "language": "python",
   "name": "python3"
  },
  "language_info": {
   "codemirror_mode": {
    "name": "ipython",
    "version": 3
   },
   "file_extension": ".py",
   "mimetype": "text/x-python",
   "name": "python",
   "nbconvert_exporter": "python",
   "pygments_lexer": "ipython3",
   "version": "3.7.1"
  }
 },
 "nbformat": 4,
 "nbformat_minor": 2
}
