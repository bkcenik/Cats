{
 "cells": [
  {
   "cell_type": "code",
   "execution_count": 6,
   "metadata": {},
   "outputs": [],
   "source": [
    "# Dependencies and Setup\n",
    "import matplotlib.pyplot as plt\n",
    "import pandas as pd\n",
    "import numpy as np\n",
    "import requests\n",
    "import time\n",
    "from citipy import citipy\n",
    "#from config import api_key\n",
    "from pprint import pprint\n"
   ]
  },
  {
   "cell_type": "code",
   "execution_count": 7,
   "metadata": {},
   "outputs": [],
   "source": [
    "url= \"https://api.darksky.net/forecast/c1c29fdb57faf89ebb9b57fbd5e9772e/32.806671,-86.791130,255657600?=currently\"\n",
    "query_url=url"
   ]
  },
  {
   "cell_type": "code",
   "execution_count": 9,
   "metadata": {},
   "outputs": [
    {
     "name": "stdout",
     "output_type": "stream",
     "text": [
      "{'currently': {'time': 255657600, 'uvIndex': 0},\n",
      " 'flags': {'nearest-station': 4.588,\n",
      "           'sources': ['cmc',\n",
      "                       'gfs',\n",
      "                       'hrrr',\n",
      "                       'icon',\n",
      "                       'isd',\n",
      "                       'madis',\n",
      "                       'nam',\n",
      "                       'sref'],\n",
      "           'units': 'us'},\n",
      " 'latitude': 32.806671,\n",
      " 'longitude': -86.79113,\n",
      " 'offset': -6,\n",
      " 'timezone': 'America/Chicago'}\n"
     ]
    }
   ],
   "source": [
    "weather_response = requests.get(query_url)\n",
    "weather_json = weather_response.json()\n",
    "\n",
    "# Get the temperature from the response\n",
    "#print(f\"The weather API responded with: {weather_json}.\")\n",
    "pprint(weather_json)\n",
    "\n",
    "# set up lists to hold reponse info\n",
    "temp = []\n",
    "\n",
    "    temp.append(response['main']['temp'])"
   ]
  },
  {
   "cell_type": "code",
   "execution_count": null,
   "metadata": {},
   "outputs": [],
   "source": []
  }
 ],
 "metadata": {
  "kernelspec": {
   "display_name": "Python 3",
   "language": "python",
   "name": "python3"
  },
  "language_info": {
   "codemirror_mode": {
    "name": "ipython",
    "version": 3
   },
   "file_extension": ".py",
   "mimetype": "text/x-python",
   "name": "python",
   "nbconvert_exporter": "python",
   "pygments_lexer": "ipython3",
   "version": "3.7.1"
  }
 },
 "nbformat": 4,
 "nbformat_minor": 2
}
